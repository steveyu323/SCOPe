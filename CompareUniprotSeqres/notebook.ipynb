{
 "cells": [
  {
   "cell_type": "markdown",
   "metadata": {},
   "source": [
    "## 190823\n",
    "- find a sample case to run :\n",
    "- select pdb_release_id from pdb_local where xml_path is not null and pdb_release_id in (select distinct(pdb_release_id) from pdb_chain where id in (select pdb_chain_id from raf where last_release_id = 18)) limit 5;  \n",
    "+----------------+  \n",
    "| pdb_release_id |    \n",
    "+----------------+  \n",
    "|          66518 |  \n",
    "|          66755 |  \n",
    "|          66756 |  \n",
    "|          67708 |  \n",
    "|         114278 |  \n",
    "+----------------+  \n",
    "\n",
    "- select * from pdb_chain where pdb_release_id = 66518 ;  \n",
    "+--------+----------------+-------+----------------+  \n",
    "| id     | pdb_release_id | chain | is_polypeptide |  \n",
    "+--------+----------------+-------+----------------+  \n",
    "| 398066 |          66518 | D     |              1 |  \n",
    "| 398067 |          66518 | E     |              1 |  \n",
    "| 398068 |          66518 | F     |              1 |  \n",
    "| 398069 |          66518 | A     |              1 |  \n",
    "| 398070 |          66518 | B     |              1 |  \n",
    "| 398071 |          66518 | C     |              1 |  \n",
    "+--------+----------------+-------+----------------+  \n",
    "\n",
    "- select * from pdb_chain_dbref where pdb_chain_id in (select pdb_chain_id from raf where pdb_chain_id in (select id from pdb_chain where pdb_release_id = 66518) and raf_version_id = 3);  \n",
    "+---------+--------------+---------+------------+--------------+----------------+--------------+-----------------+---------------+  \n",
    "| id      | pdb_chain_id | db_name | db_code    | db_accession | db_align_start | db_align_end | pdb_align_start | pdb_align_end |  \n",
    "| 5539951 |       398069 | UNP     | HIS6_THEMA |              |              1 |          253 |               0 |             252 |  \n",
    "| 5539952 |       398071 | UNP     | HIS6_THEMA |              |              1 |          253 |               0 |             252 |  \n",
    "| 5539953 |       398067 | UNP     | HIS6_THEMA |              |              1 |          253 |               0 |             252 |  \n",
    "| 5539954 |       398070 | UNP     | HIS5_THEMA |              |              1 |          201 |               0 |             200 |  \n",
    "| 5539955 |       398066 | UNP     | HIS5_THEMA |              |              1 |          201 |               0 |             200 |  \n",
    "| 5539956 |       398068 | UNP     | HIS5_THEMA |              |              1 |          201 |               0 |             200 |  \n",
    "+---------+--------------+---------+------------+--------------+----------------+--------------+-----------------+---  \n",
    "- select * from uniprot where long_id = 'HIS6_THEMA' and is_obsolete = 0;  \n",
    "| id       | long_id    | is_swissprot | seq_version | seq_date   | entry_name | is_obsolete |   \n",
    "92046954 | HIS6_THEMA |            1 |           1 | 1999-11-01 | Imidazole glycerol phosphate synthase subunit HisF |           0 |   \n",
    "\n",
    "- select * from uniprot_seq where uniprot_id = 92046954;  \n",
    "+------------+--------+  \n",
    "| uniprot_id | seq_id |  \n",
    "+------------+--------+  \n",
    "|   92046954 |  71862 |  \n",
    "+------------+--------+  \n",
    "\n",
    "- from astral_seq: \n",
    "\"mlakriiacldvkdgrvvkgtnfenlrdsgdpvelgkfyseigidelvflditasvekrktmlelvekvaeqidipftvgggihdfetaselilrgadkvsintaavenpslitqiaqtfgsqavvvaidakrvdgefmvftysgkkntgillrdwvvevekrgageilltsidrdgtksgydtemirfvrplttlpiiasggagkmehfleaflagadaalaasvfhfreidvrelkeylkkhgvnvrlegl\"  \n",
    "- from raf: 1-253\n",
    "\n",
    "- db_align is 1-indexed\n",
    "- pdb_align is 0-indexed"
   ]
  },
  {
   "cell_type": "markdown",
   "metadata": {},
   "source": [
    "## 190825\n",
    "- Make a new table compare_seq with the following columns:\n",
    "  - pdb_release_id\n",
    "  - pdb_chain_id\n",
    "  - raf_available\n",
    "  - long_id\n",
    "  - uniprot_id\n",
    "  - seq_id\n",
    "  - is_same"
   ]
  },
  {
   "cell_type": "markdown",
   "metadata": {},
   "source": [
    "## 190829\n",
    "`CREATE TABLE compare_seq (pdb_release_id INT NOT NULL,pdb_chain_id INT NOT NULL,raf_available Bool NOT NULL,long_id TEXT NOT NULL, uniprot_id INT NOT NULL,seq_id INT NOT NULL,is_same Bool NOT NULL);`"
   ]
  },
  {
   "cell_type": "markdown",
   "metadata": {},
   "source": [
    "## 190830\n",
    "- continue writing functionCompareUniprotSeqres"
   ]
  },
  {
   "cell_type": "markdown",
   "metadata": {},
   "source": [
    "## 190903\n",
    "- read the CAGI assessment paper\n",
    "- complete the string comparison and update part of function CompareUniprotSeqres\n",
    "- group meeting"
   ]
  },
  {
   "cell_type": "markdown",
   "metadata": {},
   "source": [
    "## 190904\n",
    "- "
   ]
  },
  {
   "cell_type": "code",
   "execution_count": null,
   "metadata": {},
   "outputs": [],
   "source": []
  }
 ],
 "metadata": {
  "kernelspec": {
   "display_name": "Python 3",
   "language": "python",
   "name": "python3"
  },
  "language_info": {
   "codemirror_mode": {
    "name": "ipython",
    "version": 3
   },
   "file_extension": ".py",
   "mimetype": "text/x-python",
   "name": "python",
   "nbconvert_exporter": "python",
   "pygments_lexer": "ipython3",
   "version": "3.7.3"
  }
 },
 "nbformat": 4,
 "nbformat_minor": 2
}
