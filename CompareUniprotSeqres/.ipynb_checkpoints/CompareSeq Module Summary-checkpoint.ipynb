{
 "cells": [
  {
   "cell_type": "markdown",
   "metadata": {},
   "source": [
    "# CompareSeq Module Summary\n",
    "- Changhua Yu\n",
    "- 191024"
   ]
  },
  {
   "cell_type": "markdown",
   "metadata": {},
   "source": [
    "## Goal of the Process\n",
    "- To import Human variants information in databases currently referring to Uniprot identifiers for further analysis"
   ]
  },
  {
   "cell_type": "markdown",
   "metadata": {},
   "source": [
    "## Steps of the Process\n",
    "1. Create the new RAF format that excludes B|M|E, and new RAF making function to resolve some format issues (indexing error, not aligning to length 7, etc)\n",
    "2. Amend MakePDVSeqadv and resolve the majority of previously NULL in pdb alignment to Uniprot. Further catching some edges cases such as cyclic residue and pdbStart insertion code.\n",
    "    - manually confirm the pdb submission human errors in the rest\n",
    "3. Resolve the missing uniprot entries by Importing the latest release of Uniprot into scop database, for missing entries, extract from uniprot info and create new uniprot table entries by matching accession code and protein name\n",
    "4. Make Sure the consistent relation between accession, seq, uniprot entry and pdb_chain_dbref. Confirm the entries still missing in the table are no longer valid\n",
    "5. Checking the sequence consistency between uniprot and seqres"
   ]
  },
  {
   "cell_type": "markdown",
   "metadata": {},
   "source": [
    "## Results of Sequence Comparison\n",
    "1. every last release = 18 entries have both raf_version_id = 2 and raf_verison_id = 3 raf entries\n",
    "2. The valid dbref entries does not cover the entire pdb_chain_id in release 18 (193513 out of 207690) and there're cases where multiple db_ref corresponds to the same pdb_chain_id \n",
    "   - valid as :\n",
    "   - align to 'UNP'\n",
    "   - has only pdb_chain_id in the raf_version_3_release_18 table\n",
    "   - valid db_align_start, db_align_end, pdb_align_start and pdb_align_end \n",
    "       - db_align for uniprot is 1-indexed so both db_align_start and db_align_end >0\n",
    "       - no NULL in pdb_align_start and pdb_align_end \n",
    "   \n",
    "3. 193056/193513 has no length difference between db_align_end-db_align_start and pdb_align_end - pdb_align_start among valid entries\n",
    "4. 166942/193056 of the valid db_ref alignment that could have same seqres and uniprot sequence has a valid uniprot identifier (db_code) that leads to an astral_seq uniprot sequence\n",
    "5. 166942 dbref entries that could perform sequence identity checking span 163552 pdb_chain in raf\n",
    "`\n",
    "select count(distinct(pdb_chain_id)),count(*) from dbref_uniprot_seq;\n",
    "+-------------------------------+----------+\n",
    "| count(distinct(pdb_chain_id)) | count(*) |\n",
    "+-------------------------------+----------+\n",
    "|                        163552 |   166942 |\n",
    "+-------------------------------+----------+\n",
    "`\n",
    "6. **Of the 166942 dbref entries compared: 105227 entries are identitcal, 61715 entries are different**\n",
    "7. difference and actual sequences are stored using unique pdb_chain_dbref_id identifiers"
   ]
  },
  {
   "cell_type": "markdown",
   "metadata": {},
   "source": [
    "## Of the 166942 dbref entries compared: 105227 entries are identitcal, 61715 entries are different"
   ]
  },
  {
   "cell_type": "markdown",
   "metadata": {},
   "source": [
    "## The Checking is limited by the empty db_accesion in the current release 18 entries\n",
    "- To fix, fix the MakePDBSeqadv code to update the accession as well and apply the uniprot_accesion table \n"
   ]
  },
  {
   "cell_type": "code",
   "execution_count": null,
   "metadata": {},
   "outputs": [],
   "source": []
  }
 ],
 "metadata": {
  "kernelspec": {
   "display_name": "Python 3",
   "language": "python",
   "name": "python3"
  },
  "language_info": {
   "codemirror_mode": {
    "name": "ipython",
    "version": 3
   },
   "file_extension": ".py",
   "mimetype": "text/x-python",
   "name": "python",
   "nbconvert_exporter": "python",
   "pygments_lexer": "ipython3",
   "version": "3.7.3"
  }
 },
 "nbformat": 4,
 "nbformat_minor": 2
}
